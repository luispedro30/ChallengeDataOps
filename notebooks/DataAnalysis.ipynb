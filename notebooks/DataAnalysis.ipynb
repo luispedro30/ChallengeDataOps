{
 "cells": [
  {
   "cell_type": "code",
   "execution_count": 1,
   "metadata": {},
   "outputs": [],
   "source": [
    "import pandas as pd\n",
    "import numpy as np"
   ]
  },
  {
   "cell_type": "code",
   "execution_count": 5,
   "metadata": {},
   "outputs": [
    {
     "data": {
      "text/html": [
       "<div>\n",
       "<style scoped>\n",
       "    .dataframe tbody tr th:only-of-type {\n",
       "        vertical-align: middle;\n",
       "    }\n",
       "\n",
       "    .dataframe tbody tr th {\n",
       "        vertical-align: top;\n",
       "    }\n",
       "\n",
       "    .dataframe thead th {\n",
       "        text-align: right;\n",
       "    }\n",
       "</style>\n",
       "<table border=\"1\" class=\"dataframe\">\n",
       "  <thead>\n",
       "    <tr style=\"text-align: right;\">\n",
       "      <th></th>\n",
       "      <th>empresa</th>\n",
       "      <th>energia_kwh</th>\n",
       "      <th>agua_m3</th>\n",
       "      <th>co2_emissoes</th>\n",
       "      <th>setor</th>\n",
       "    </tr>\n",
       "  </thead>\n",
       "  <tbody>\n",
       "    <tr>\n",
       "      <th>0</th>\n",
       "      <td>Empresa_1</td>\n",
       "      <td>6397.10</td>\n",
       "      <td>296.58</td>\n",
       "      <td>1600.24</td>\n",
       "      <td>Educação</td>\n",
       "    </tr>\n",
       "    <tr>\n",
       "      <th>1</th>\n",
       "      <td>Empresa_2</td>\n",
       "      <td>2570.30</td>\n",
       "      <td>492.52</td>\n",
       "      <td>818.98</td>\n",
       "      <td>Saúde</td>\n",
       "    </tr>\n",
       "    <tr>\n",
       "      <th>2</th>\n",
       "      <td>Empresa_3</td>\n",
       "      <td>4166.20</td>\n",
       "      <td>158.67</td>\n",
       "      <td>2710.03</td>\n",
       "      <td>Saúde</td>\n",
       "    </tr>\n",
       "    <tr>\n",
       "      <th>3</th>\n",
       "      <td>Empresa_4</td>\n",
       "      <td>8781.75</td>\n",
       "      <td>211.74</td>\n",
       "      <td>2036.72</td>\n",
       "      <td>Educação</td>\n",
       "    </tr>\n",
       "    <tr>\n",
       "      <th>4</th>\n",
       "      <td>Empresa_5</td>\n",
       "      <td>7846.09</td>\n",
       "      <td>16.84</td>\n",
       "      <td>2179.03</td>\n",
       "      <td>Indústria</td>\n",
       "    </tr>\n",
       "  </tbody>\n",
       "</table>\n",
       "</div>"
      ],
      "text/plain": [
       "     empresa  energia_kwh  agua_m3  co2_emissoes      setor\n",
       "0  Empresa_1      6397.10   296.58       1600.24   Educação\n",
       "1  Empresa_2      2570.30   492.52        818.98      Saúde\n",
       "2  Empresa_3      4166.20   158.67       2710.03      Saúde\n",
       "3  Empresa_4      8781.75   211.74       2036.72   Educação\n",
       "4  Empresa_5      7846.09    16.84       2179.03  Indústria"
      ]
     },
     "execution_count": 5,
     "metadata": {},
     "output_type": "execute_result"
    }
   ],
   "source": [
    "data_path = \"../data/dados_sensores_5000.parquet\"\n",
    "df = pd.read_parquet(data_path, engine=\"pyarrow\")\n",
    "df.head()\n"
   ]
  },
  {
   "cell_type": "code",
   "execution_count": 12,
   "metadata": {},
   "outputs": [
    {
     "name": "stdout",
     "output_type": "stream",
     "text": [
      "\n",
      "Tipos de dados:\n"
     ]
    },
    {
     "data": {
      "text/plain": [
       "empresa          object\n",
       "energia_kwh     float64\n",
       "agua_m3         float64\n",
       "co2_emissoes    float64\n",
       "setor            object\n",
       "dtype: object"
      ]
     },
     "metadata": {},
     "output_type": "display_data"
    }
   ],
   "source": [
    "print(\"\\nTipos de dados:\")\n",
    "display(df.dtypes)"
   ]
  },
  {
   "cell_type": "code",
   "execution_count": 6,
   "metadata": {},
   "outputs": [
    {
     "name": "stdout",
     "output_type": "stream",
     "text": [
      "\n",
      "Estatísticas descritivas:\n"
     ]
    },
    {
     "data": {
      "text/html": [
       "<div>\n",
       "<style scoped>\n",
       "    .dataframe tbody tr th:only-of-type {\n",
       "        vertical-align: middle;\n",
       "    }\n",
       "\n",
       "    .dataframe tbody tr th {\n",
       "        vertical-align: top;\n",
       "    }\n",
       "\n",
       "    .dataframe thead th {\n",
       "        text-align: right;\n",
       "    }\n",
       "</style>\n",
       "<table border=\"1\" class=\"dataframe\">\n",
       "  <thead>\n",
       "    <tr style=\"text-align: right;\">\n",
       "      <th></th>\n",
       "      <th>energia_kwh</th>\n",
       "      <th>agua_m3</th>\n",
       "      <th>co2_emissoes</th>\n",
       "    </tr>\n",
       "  </thead>\n",
       "  <tbody>\n",
       "    <tr>\n",
       "      <th>count</th>\n",
       "      <td>5000.000000</td>\n",
       "      <td>5000.000000</td>\n",
       "      <td>5000.000000</td>\n",
       "    </tr>\n",
       "    <tr>\n",
       "      <th>mean</th>\n",
       "      <td>4982.012088</td>\n",
       "      <td>254.591516</td>\n",
       "      <td>1507.816080</td>\n",
       "    </tr>\n",
       "    <tr>\n",
       "      <th>std</th>\n",
       "      <td>2821.081316</td>\n",
       "      <td>139.225517</td>\n",
       "      <td>849.554449</td>\n",
       "    </tr>\n",
       "    <tr>\n",
       "      <th>min</th>\n",
       "      <td>100.620000</td>\n",
       "      <td>10.120000</td>\n",
       "      <td>51.120000</td>\n",
       "    </tr>\n",
       "    <tr>\n",
       "      <th>25%</th>\n",
       "      <td>2581.745000</td>\n",
       "      <td>138.082500</td>\n",
       "      <td>774.130000</td>\n",
       "    </tr>\n",
       "    <tr>\n",
       "      <th>50%</th>\n",
       "      <td>4936.540000</td>\n",
       "      <td>250.895000</td>\n",
       "      <td>1492.695000</td>\n",
       "    </tr>\n",
       "    <tr>\n",
       "      <th>75%</th>\n",
       "      <td>7425.097500</td>\n",
       "      <td>373.512500</td>\n",
       "      <td>2258.457500</td>\n",
       "    </tr>\n",
       "    <tr>\n",
       "      <th>max</th>\n",
       "      <td>9993.800000</td>\n",
       "      <td>499.760000</td>\n",
       "      <td>2999.640000</td>\n",
       "    </tr>\n",
       "  </tbody>\n",
       "</table>\n",
       "</div>"
      ],
      "text/plain": [
       "       energia_kwh      agua_m3  co2_emissoes\n",
       "count  5000.000000  5000.000000   5000.000000\n",
       "mean   4982.012088   254.591516   1507.816080\n",
       "std    2821.081316   139.225517    849.554449\n",
       "min     100.620000    10.120000     51.120000\n",
       "25%    2581.745000   138.082500    774.130000\n",
       "50%    4936.540000   250.895000   1492.695000\n",
       "75%    7425.097500   373.512500   2258.457500\n",
       "max    9993.800000   499.760000   2999.640000"
      ]
     },
     "metadata": {},
     "output_type": "display_data"
    }
   ],
   "source": [
    "print(\"\\nEstatísticas descritivas:\")\n",
    "display(df.describe())"
   ]
  },
  {
   "cell_type": "code",
   "execution_count": 9,
   "metadata": {},
   "outputs": [
    {
     "name": "stdout",
     "output_type": "stream",
     "text": [
      "\n",
      "Número de linhas e colunas:\n"
     ]
    },
    {
     "data": {
      "text/plain": [
       "(5000, 5)"
      ]
     },
     "metadata": {},
     "output_type": "display_data"
    }
   ],
   "source": [
    "print(\"\\nNúmero de linhas e colunas:\")\n",
    "display(df.shape)"
   ]
  },
  {
   "cell_type": "code",
   "execution_count": 10,
   "metadata": {},
   "outputs": [
    {
     "name": "stdout",
     "output_type": "stream",
     "text": [
      "\n",
      "Valores nulos por coluna:\n"
     ]
    },
    {
     "data": {
      "text/plain": [
       "empresa         0\n",
       "energia_kwh     0\n",
       "agua_m3         0\n",
       "co2_emissoes    0\n",
       "setor           0\n",
       "dtype: int64"
      ]
     },
     "metadata": {},
     "output_type": "display_data"
    }
   ],
   "source": [
    "print(\"\\nValores nulos por coluna:\")\n",
    "display(df.isnull().sum())"
   ]
  },
  {
   "cell_type": "code",
   "execution_count": 13,
   "metadata": {},
   "outputs": [
    {
     "name": "stdout",
     "output_type": "stream",
     "text": [
      "Unique values in empresa: ['Empresa_1' 'Empresa_2' 'Empresa_3' ... 'Empresa_4998' 'Empresa_4999'\n",
      " 'Empresa_5000']\n",
      "Unique values in energia_kwh: [6397.1  2570.3  4166.2  ... 6026.83 7907.98 2915.18]\n",
      "Unique values in agua_m3: [296.58 492.52 158.67 ... 485.5  137.64 450.52]\n",
      "Unique values in co2_emissoes: [1600.24  818.98 2710.03 ... 2379.65 2309.93   63.5 ]\n",
      "Unique values in setor: ['Educação' 'Saúde' 'Indústria' 'Alimentação' 'Serviços' 'Varejo']\n"
     ]
    }
   ],
   "source": [
    "for column in df.columns:\n",
    "    print(f\"Unique values in {column}: {df[column].unique()}\")"
   ]
  },
  {
   "cell_type": "code",
   "execution_count": null,
   "metadata": {},
   "outputs": [],
   "source": []
  }
 ],
 "metadata": {
  "kernelspec": {
   "display_name": "base",
   "language": "python",
   "name": "python3"
  },
  "language_info": {
   "codemirror_mode": {
    "name": "ipython",
    "version": 3
   },
   "file_extension": ".py",
   "mimetype": "text/x-python",
   "name": "python",
   "nbconvert_exporter": "python",
   "pygments_lexer": "ipython3",
   "version": "3.9.19"
  }
 },
 "nbformat": 4,
 "nbformat_minor": 2
}
